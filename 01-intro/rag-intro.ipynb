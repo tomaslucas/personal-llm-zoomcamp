{
 "cells": [
  {
   "cell_type": "code",
   "execution_count": 52,
   "id": "8c3c5dbe-4c39-492b-a9f7-dc9bd6f97a2d",
   "metadata": {},
   "outputs": [],
   "source": [
    "# %%script false --no-raise-error\n",
    "from pathlib import Path\n",
    "\n",
    "file_path = \"documents.json\"\n",
    "path = Path(file_path)\n",
    "\n",
    "if not path.is_file():\n",
    "    !wget https://raw.githubusercontent.com/DataTalksClub/llm-zoomcamp/main/01-intro/documents.json\n",
    "\n",
    "file_path = \"minsearch.py\"\n",
    "path = Path(file_path)\n",
    "\n",
    "if not path.is_file():\n",
    "    !wget https://raw.githubusercontent.com/DataTalksClub/llm-zoomcamp/main/01-intro/minsearch.py"
   ]
  },
  {
   "cell_type": "code",
   "execution_count": 53,
   "id": "60e9f682-b6c9-4b3d-a467-cbc796a80631",
   "metadata": {},
   "outputs": [],
   "source": [
    "from minsearch import Index"
   ]
  },
  {
   "cell_type": "code",
   "execution_count": 54,
   "id": "97897f2e-6c3b-4377-ac3a-8d700f1482b4",
   "metadata": {},
   "outputs": [],
   "source": [
    "import json"
   ]
  },
  {
   "cell_type": "code",
   "execution_count": 55,
   "id": "ae171a40-3671-4efc-a34c-9c3582261e24",
   "metadata": {},
   "outputs": [],
   "source": [
    "with open('documents.json', 'rt') as f_in:\n",
    "    docs_raw = json.load(f_in)"
   ]
  },
  {
   "cell_type": "code",
   "execution_count": 56,
   "id": "63345bb4-c5ed-488e-9024-4b0ea5f1c393",
   "metadata": {
    "scrolled": true
   },
   "outputs": [],
   "source": [
    "documents = []\n",
    "\n",
    "for course_dict in docs_raw:\n",
    "    for doc in course_dict['documents']:\n",
    "        doc['course'] = course_dict['course']\n",
    "        documents.append(doc)\n"
   ]
  },
  {
   "cell_type": "code",
   "execution_count": 57,
   "id": "2d00b041-4c50-415a-9e7c-1d0c8b84b78a",
   "metadata": {},
   "outputs": [
    {
     "data": {
      "text/plain": [
       "{'text': \"The purpose of this document is to capture frequently asked technical questions\\nThe exact day and hour of the course will be 15th Jan 2024 at 17h00. The course will start with the first  “Office Hours'' live.1\\nSubscribe to course public Google Calendar (it works from Desktop only).\\nRegister before the course starts using this link.\\nJoin the course Telegram channel with announcements.\\nDon’t forget to register in DataTalks.Club's Slack and join the channel.\",\n",
       " 'section': 'General course-related questions',\n",
       " 'question': 'Course - When will the course start?',\n",
       " 'course': 'data-engineering-zoomcamp'}"
      ]
     },
     "execution_count": 57,
     "metadata": {},
     "output_type": "execute_result"
    }
   ],
   "source": [
    "documents[0]"
   ]
  },
  {
   "cell_type": "code",
   "execution_count": 58,
   "id": "f47de965-df00-40d4-badd-1d3d8f20fe1a",
   "metadata": {},
   "outputs": [
    {
     "data": {
      "text/plain": [
       "<minsearch.Index at 0x79edb27eee60>"
      ]
     },
     "execution_count": 58,
     "metadata": {},
     "output_type": "execute_result"
    }
   ],
   "source": [
    "index = Index(\n",
    "    text_fields=[\"question\", \"text\", \"section\"],\n",
    "    keyword_fields=[\"course\"]\n",
    ")\n",
    "\n",
    "index.fit(documents)"
   ]
  },
  {
   "cell_type": "code",
   "execution_count": 59,
   "id": "fd76fd43-0736-4569-9707-cb9b1db9e27c",
   "metadata": {},
   "outputs": [
    {
     "name": "stdout",
     "output_type": "stream",
     "text": [
      "{'text': \"Yes, even if you don't register, you're still eligible to submit the homeworks.\\nBe aware, however, that there will be deadlines for turning in the final projects. So don't leave everything for the last minute.\", 'section': 'General course-related questions', 'question': 'Course - Can I still join the course after the start date?', 'course': 'data-engineering-zoomcamp'}\n",
      "{'text': 'Yes, we will keep all the materials after the course finishes, so you can follow the course at your own pace after it finishes.\\nYou can also continue looking at the homeworks and continue preparing for the next cohort. I guess you can also start working on your final capstone project.', 'section': 'General course-related questions', 'question': 'Course - Can I follow the course after it finishes?', 'course': 'data-engineering-zoomcamp'}\n",
      "{'text': 'Yes, the slack channel remains open and you can ask questions there. But always sDocker containers exit code w search the channel first and second, check the FAQ (this document), most likely all your questions are already answered here.\\nYou can also tag the bot @ZoomcampQABot to help you conduct the search, but don’t rely on its answers 100%, it is pretty good though.', 'section': 'General course-related questions', 'question': 'Course - Can I get support if I take the course in the self-paced mode?', 'course': 'data-engineering-zoomcamp'}\n"
     ]
    }
   ],
   "source": [
    "query = \"Can I join the course if it has already started?\"\n",
    "\n",
    "filter_dict = {\"course\": \"data-engineering-zoomcamp\"}\n",
    "boost_dict = {\"question\": 3, \"section\": 0.5}\n",
    "\n",
    "results = index.search(query, \n",
    "                       filter_dict, \n",
    "                       boost_dict, \n",
    "                       num_results=3)\n",
    "\n",
    "for result in results:\n",
    "    print(result)"
   ]
  },
  {
   "cell_type": "code",
   "execution_count": 60,
   "id": "f8786897-51ef-40ce-9003-cc2dac940d94",
   "metadata": {},
   "outputs": [],
   "source": [
    "from openai import OpenAI\n",
    "from dotenv import load_dotenv\n",
    "load_dotenv();"
   ]
  },
  {
   "cell_type": "code",
   "execution_count": 61,
   "id": "1f7b18a7-e8e1-4271-9d27-059530ab367d",
   "metadata": {},
   "outputs": [],
   "source": [
    "client = OpenAI()"
   ]
  },
  {
   "cell_type": "code",
   "execution_count": 23,
   "id": "f1eabcc8-6b94-4167-9a76-9aa05f5a7f23",
   "metadata": {},
   "outputs": [],
   "source": [
    "system_prompt= \"\"\"\n",
    "You are a course teaching assistant. Answer the QUESTION with the information included in CONTEXT.\n",
    "If there is nothing in the QUESTION to match the data in CONTEXT answer with NONE.\n",
    "Use the same idiom as the user used in the QUESTION. It is not necessary to repeat the QUESTION in the answer.\n",
    "\"\"\".strip()"
   ]
  },
  {
   "cell_type": "code",
   "execution_count": 77,
   "id": "85ad3ef3-8b00-44a2-824e-6bca43ad486d",
   "metadata": {},
   "outputs": [],
   "source": [
    "system_prompt= \"\"\"\n",
    "You are a course teaching assistant.\n",
    "Your task is to provide specific guidance based on the CONTEXT provided.\n",
    "Provide the appropriate answer if the QUESTION aligns with the information in CONTEXT.\n",
    "Ensure clear responses address the user's query or provide appropriate instructions based on the provided course materials.\n",
    "\"\"\".strip()"
   ]
  },
  {
   "cell_type": "code",
   "execution_count": 38,
   "id": "2dae6d6c-8067-4e89-a154-d9acb90e1964",
   "metadata": {},
   "outputs": [],
   "source": [
    "system_prompt_gp4= \"\"\"\n",
    "You are a course teaching assistant. Your role is to answer questions using the information provided in the CONTEXT.\n",
    "Guidelines:\n",
    "Contextual Matching: Use the CONTEXT to find relevant information that matches the QUESTION. If there is no matching information in the CONTEXT, respond with \"NONE.\"\n",
    "Language Consistency: Use the same language and tone as the user used in the QUESTION.\n",
    "Brevity and Clarity: Provide clear and concise answers without repeating the QUESTION.\n",
    "Example:\n",
    "If the QUESTION asks about assignment deadlines and the CONTEXT includes the assignment schedule, provide the specific deadlines.\n",
    "If the QUESTION is about a topic not covered in the CONTEXT, respond with \"NONE.\"\n",
    "\"\"\".strip()"
   ]
  },
  {
   "cell_type": "code",
   "execution_count": 36,
   "id": "8e7b463f-b07b-45ff-84ba-41481dca17e9",
   "metadata": {},
   "outputs": [],
   "source": [
    "system_prompt_gpt3= \"\"\"\n",
    "You are a course teaching assistant. Your role is to answer questions using the information provided in the CONTEXT.\n",
    "\n",
    "Guidelines:\n",
    "\n",
    "Contextual Matching: Look for relevant information in the CONTEXT that matches the QUESTION. If the CONTEXT does not contain information related to the QUESTION, respond with \"NONE.\"\n",
    "\n",
    "Language Consistency: Use the same language and tone as the user used in the QUESTION.\n",
    "\n",
    "Brevity and Clarity: Provide clear and concise answers. Do not repeat the QUESTION in your answer.\n",
    "\n",
    "Instructions for Answering:\n",
    "\n",
    "Search the CONTEXT for any relevant information that can answer the QUESTION.\n",
    "If you find relevant information, provide a direct and concise answer.\n",
    "If there is no relevant information in the CONTEXT, respond with \"NONE.\"\n",
    "Example:\n",
    "\n",
    "QUESTION: \"What are the deadlines for assignments?\"\n",
    "CONTEXT: \"The deadline for Assignment 1 is June 20. The deadline for Assignment 2 is July 15.\"\n",
    "Answer: \"The deadline for Assignment 1 is June 20. The deadline for Assignment 2 is July 15.\"\n",
    "\n",
    "QUESTION: \"What is the exam format?\"\n",
    "CONTEXT: \"NONE\"\n",
    "Answer: \"NONE\"\n",
    "\"\"\".strip()"
   ]
  },
  {
   "cell_type": "code",
   "execution_count": 30,
   "id": "ae3669e2-48ef-40e4-88c3-73cedac1cafe",
   "metadata": {},
   "outputs": [],
   "source": [
    "user_prompt_template = \"\"\"\n",
    "QUESTION:\n",
    "{question}\n",
    "\n",
    "CONTEXT:\n",
    "{context}\n",
    "\"\"\".strip()\n",
    "\n",
    "context= \"\"\n",
    "\n",
    "for doc in results:\n",
    "    context += f\"section: {doc['section']}\\nquestion: {doc['question']}\\nanswer: {doc['text']}\\n\\n\"\n",
    "\n",
    "user_prompt = user_prompt_template.format(question=query, context=context).strip()"
   ]
  },
  {
   "cell_type": "code",
   "execution_count": 31,
   "id": "5a1581af-e177-4726-aa32-b43ca73a54dc",
   "metadata": {},
   "outputs": [],
   "source": []
  },
  {
   "cell_type": "code",
   "execution_count": 37,
   "id": "afa0cc72-8d68-466b-a366-db6532a93327",
   "metadata": {},
   "outputs": [
    {
     "data": {
      "text/plain": [
       "'Yes, you can join the course even if it has already started.'"
      ]
     },
     "execution_count": 37,
     "metadata": {},
     "output_type": "execute_result"
    }
   ],
   "source": [
    "response = client.chat.completions.create(\n",
    "    model=\"gpt-3.5-turbo\",\n",
    "    # model=\"gpt-4o\",\n",
    "    messages= [\n",
    "        {\"role\": \"system\", \"content\": system_prompt_gpt3},\n",
    "        {\"role\": \"user\", \"content\": user_prompt,\n",
    "        }\n",
    "    ]\n",
    ")\n",
    "\n",
    "response.choices[0].message.content"
   ]
  },
  {
   "cell_type": "code",
   "execution_count": 62,
   "id": "48e18381-0966-4dc8-b120-5601d7e39b6e",
   "metadata": {},
   "outputs": [],
   "source": [
    "def search(query: str, filter_dict: dict={}, bosst_dict: dict={\"question\": 3, \"section\": 0.5}, num_results: int=3):\n",
    "    results = index.search(query, filter_dict, boost_dict, num_results)\n",
    "    return results"
   ]
  },
  {
   "cell_type": "code",
   "execution_count": 63,
   "id": "af860f0b-fd19-4a65-b2bd-5c630f90e57c",
   "metadata": {},
   "outputs": [],
   "source": [
    "def build_user_prompt(query: str, search_result: str):\n",
    "    user_prompt_template = \"\"\"\n",
    "QUESTION: {question}\n",
    "\n",
    "CONTEXT:\n",
    "{context}\n",
    "\"\"\".strip()\n",
    "\n",
    "    context= \"\"\n",
    "    \n",
    "    for doc in search_result:\n",
    "        context += f\"section: {doc['section']}\\nquestion: {doc['question']}\\nanswer: {doc['text']}\\n\\n\"\n",
    "    \n",
    "    user_prompt = user_prompt_template.format(question=query, context=context).strip()\n",
    "    return user_prompt"
   ]
  },
  {
   "cell_type": "code",
   "execution_count": 64,
   "id": "44a3a29b-d359-4eb7-9d62-d3f9b9d7ee2a",
   "metadata": {},
   "outputs": [],
   "source": [
    "def llm(system_prompt: str, user_prompt: str, model: str=\"gpt-3.5-turbo\"):\n",
    "    response = client.chat.completions.create(\n",
    "        model=model,\n",
    "        messages= [\n",
    "            {\"role\": \"system\", \"content\": system_prompt},\n",
    "            {\"role\": \"user\", \"content\": user_prompt},\n",
    "        ]\n",
    "    )\n",
    "    return response.choices[0].message.content"
   ]
  },
  {
   "cell_type": "code",
   "execution_count": 65,
   "id": "fc960d64-2590-4e29-baf4-2dc89e397972",
   "metadata": {},
   "outputs": [],
   "source": [
    "def rag(query: str, filter_dict: dict= {\"course\": \"data-engineering-zoomcamp\"}):\n",
    "    system_prompt= \"\"\"\n",
    "You are a course teaching assistant.\n",
    "Your task is to provide specific guidance based on the CONTEXT provided.\n",
    "Provide the appropriate answer if the QUESTION aligns with the information in CONTEXT.\n",
    "Ensure clear responses address the user's query or provide appropriate instructions based on the provided course materials.\n",
    "\"\"\".strip()\n",
    "    search_result = search(query, filter_dict)\n",
    "    user_prompt = build_user_prompt(query, search_result)\n",
    "    answer = llm(system_prompt, user_prompt)\n",
    "    return answer"
   ]
  },
  {
   "cell_type": "code",
   "execution_count": 81,
   "id": "4a8ae769-d39c-40be-a90a-3528ced31a8c",
   "metadata": {},
   "outputs": [
    {
     "data": {
      "text/plain": [
       "'Since you are specifically looking to run Kafka, you can follow the instructions provided in the context for running Java Kafka under \"Module 6: streaming with kafka.\" Use the java command provided to run your producer, consumer, or kstreams in the terminal. If you encounter issues with running a Python module, refer to Alexey\\'s solution on creating a virtual environment and running the Python files from within that environment. Lastly, if you need to install dependencies for running code related to dlthub, ensure the \\'dlt[duckdb]\\' package is installed by executing the command: `!pip install dlt[duckdb]`.'"
      ]
     },
     "execution_count": 81,
     "metadata": {},
     "output_type": "execute_result"
    }
   ],
   "source": [
    "query=\"how do I run kafka?\"\n",
    "# query = \"Can I join the course if it has already started?\"\n",
    "rag(query)"
   ]
  },
  {
   "cell_type": "code",
   "execution_count": 84,
   "id": "5b0619a9-0cdd-4beb-9cb9-e806c035c31a",
   "metadata": {},
   "outputs": [
    {
     "data": {
      "text/plain": [
       "\"Based on the provided context, if the course has already started and you are considering enrolling, you can still participate and submit the homeworks, even if you don't officially register. However, there will be deadlines for submitting final projects, so it is advisable not to procrastinate and to manage your time efficiently.\""
      ]
     },
     "execution_count": 84,
     "metadata": {},
     "output_type": "execute_result"
    }
   ],
   "source": [
    "rag(\"the course has already started, can I still enroll?\")"
   ]
  },
  {
   "cell_type": "markdown",
   "id": "c160efd5-449f-4430-b0c4-820ecaca7720",
   "metadata": {},
   "source": [
    "### Run ElasticSearch with Docker\n",
    "\n",
    "```bash\n",
    "docker run -it \\\n",
    "    --name elasticsearch \\\n",
    "    -p 9200:9200 \\\n",
    "    -p 9300:9300 \\\n",
    "    -e \"discovery.type=single-node\" \\\n",
    "    -e \"xpack.security.enabled=false\" \\\n",
    "    docker.elastic.co/elasticsearch/elasticsearch:8.4.3\n",
    "```\n",
    "\n",
    "We can verify if it is running with:\n",
    "\n",
    "```bash\n",
    "curl http://localhost:9200\n",
    "```"
   ]
  },
  {
   "cell_type": "code",
   "execution_count": 10,
   "id": "1fa63231-8e41-4156-9398-ac7a760fc44e",
   "metadata": {},
   "outputs": [],
   "source": [
    "from elasticsearch import Elasticsearch"
   ]
  },
  {
   "cell_type": "code",
   "execution_count": 12,
   "id": "b27513f9-daf1-4c14-916b-e81c1ca0759f",
   "metadata": {},
   "outputs": [],
   "source": [
    "es_client = Elasticsearch(\"http://localhost:9200\")"
   ]
  },
  {
   "cell_type": "code",
   "execution_count": 13,
   "id": "3ca19d64-15c7-45fe-9bc9-7361dc963f39",
   "metadata": {},
   "outputs": [
    {
     "data": {
      "text/plain": [
       "ObjectApiResponse({'name': '29f8a9768e63', 'cluster_name': 'docker-cluster', 'cluster_uuid': 'RAJAxf6KTi2zTH1SesO4jA', 'version': {'number': '8.4.3', 'build_flavor': 'default', 'build_type': 'docker', 'build_hash': '42f05b9372a9a4a470db3b52817899b99a76ee73', 'build_date': '2022-10-04T07:17:24.662462378Z', 'build_snapshot': False, 'lucene_version': '9.3.0', 'minimum_wire_compatibility_version': '7.17.0', 'minimum_index_compatibility_version': '7.0.0'}, 'tagline': 'You Know, for Search'})"
      ]
     },
     "execution_count": 13,
     "metadata": {},
     "output_type": "execute_result"
    }
   ],
   "source": [
    "es_client.info()"
   ]
  },
  {
   "cell_type": "markdown",
   "id": "ce2f4d2c-6a5e-4d3f-96c0-a94bb338d840",
   "metadata": {},
   "source": [
    "### Index setting\n",
    "\n",
    "```python\n",
    "{\n",
    "    \"settings\": {\n",
    "        \"number_of_shards\": 1,\n",
    "        \"number_of_replicas\": 0\n",
    "    },\n",
    "    \"mappings\": {\n",
    "        \"properties\": {\n",
    "            \"text\": {\"type\": \"text\"},\n",
    "            \"section\": {\"type\": \"text\"},\n",
    "            \"question\": {\"type\": \"text\"},\n",
    "            \"course\": {\"type\": \"keyword\"} \n",
    "        }\n",
    "    }\n",
    "}\n",
    "```\n"
   ]
  },
  {
   "cell_type": "markdown",
   "id": "1753e19b-0af7-4c53-83d1-fe45be305f10",
   "metadata": {},
   "source": [
    "### Query\n",
    "\n",
    "```python\n",
    "{\n",
    "    \"size\": 5,\n",
    "    \"query\": {\n",
    "        \"bool\": {\n",
    "            \"must\": {\n",
    "                \"multi_match\": {\n",
    "                    \"query\": query,\n",
    "                    \"fields\": [\"question^3\", \"text\", \"section\"],\n",
    "                    \"type\": \"best_fields\"\n",
    "                }\n",
    "            },\n",
    "            \"filter\": {\n",
    "                \"term\": {\n",
    "                    \"course\": \"data-engineering-zoomcamp\"\n",
    "                }\n",
    "            }\n",
    "        }\n",
    "    }\n",
    "}\n",
    "```\n"
   ]
  },
  {
   "cell_type": "code",
   "execution_count": 15,
   "id": "2da71396-17c5-4f0b-b513-1832c0d910b4",
   "metadata": {},
   "outputs": [
    {
     "data": {
      "text/plain": [
       "ObjectApiResponse({'acknowledged': True, 'shards_acknowledged': True, 'index': 'course-questions'})"
      ]
     },
     "execution_count": 15,
     "metadata": {},
     "output_type": "execute_result"
    }
   ],
   "source": [
    "index_settings = {\n",
    "    \"settings\": {\n",
    "        \"number_of_shards\": 1,\n",
    "        \"number_of_replicas\": 0\n",
    "    },\n",
    "    \"mappings\": {\n",
    "        \"properties\": {\n",
    "            \"text\": {\"type\": \"text\"},\n",
    "            \"section\": {\"type\": \"text\"},\n",
    "            \"question\": {\"type\": \"text\"},\n",
    "            \"course\": {\"type\": \"keyword\"} \n",
    "        }\n",
    "    }\n",
    "}\n",
    "\n",
    "index_name = \"course-questions\"\n",
    "es_client.indices.create(index=index_name, body=index_settings)"
   ]
  },
  {
   "cell_type": "code",
   "execution_count": 9,
   "id": "8d29179e-400b-4932-b8b4-f1d293f9a093",
   "metadata": {
    "scrolled": true
   },
   "outputs": [
    {
     "data": {
      "text/plain": [
       "{'text': \"The purpose of this document is to capture frequently asked technical questions\\nThe exact day and hour of the course will be 15th Jan 2024 at 17h00. The course will start with the first  “Office Hours'' live.1\\nSubscribe to course public Google Calendar (it works from Desktop only).\\nRegister before the course starts using this link.\\nJoin the course Telegram channel with announcements.\\nDon’t forget to register in DataTalks.Club's Slack and join the channel.\",\n",
       " 'section': 'General course-related questions',\n",
       " 'question': 'Course - When will the course start?',\n",
       " 'course': 'data-engineering-zoomcamp'}"
      ]
     },
     "execution_count": 9,
     "metadata": {},
     "output_type": "execute_result"
    }
   ],
   "source": [
    "documents[0]"
   ]
  },
  {
   "cell_type": "code",
   "execution_count": 16,
   "id": "f1666782-825d-495c-90b7-b3bd8a2a7157",
   "metadata": {},
   "outputs": [],
   "source": [
    "from tqdm.auto import tqdm"
   ]
  },
  {
   "cell_type": "code",
   "execution_count": 17,
   "id": "64799390-e1d5-492e-b3d2-d7ce92c6bd13",
   "metadata": {},
   "outputs": [
    {
     "name": "stderr",
     "output_type": "stream",
     "text": [
      "100%|█████████████████████████████████████████████████████████████████████████████████████████████████████| 948/948 [01:43<00:00,  9.20it/s]\n"
     ]
    }
   ],
   "source": [
    "for doc in tqdm(documents):\n",
    "    es_client.index(index=index_name, document=doc)"
   ]
  },
  {
   "cell_type": "code",
   "execution_count": 38,
   "id": "28884627-fa7d-4164-9950-559f734afef0",
   "metadata": {},
   "outputs": [],
   "source": [
    "query = \"I just discovered the course. Can I still join it?\"\n",
    "query=\"how do I run kafka?\""
   ]
  },
  {
   "cell_type": "code",
   "execution_count": 66,
   "id": "6cffb763-6f39-48f0-9300-e96b14e9b4dc",
   "metadata": {},
   "outputs": [],
   "source": [
    "def elastic_search(index_name: str, query: str, filter_course: str, num_results: int=5):\n",
    "    search_query = {\n",
    "        \"size\": num_results,\n",
    "        \"query\": {\n",
    "            \"bool\": {\n",
    "                \"must\": {\n",
    "                    \"multi_match\": {\n",
    "                        \"query\": query,\n",
    "                        \"fields\": [\"question^3\", \"text\", \"section\"],\n",
    "                        \"type\": \"best_fields\"\n",
    "                    }\n",
    "                },\n",
    "                \"filter\": {\n",
    "                    \"term\": {\n",
    "                        \"course\": filter_course\n",
    "                    }\n",
    "                }\n",
    "            }\n",
    "        }\n",
    "    }\n",
    "    response = es_client.search(index=index_name, body=search_query)\n",
    "    result_docs = [hit['_source'] for hit in response['hits']['hits']]\n",
    "    return result_docs"
   ]
  },
  {
   "cell_type": "code",
   "execution_count": 49,
   "id": "e35848e7-07e9-442f-9904-bf5b19e3134a",
   "metadata": {},
   "outputs": [
    {
     "data": {
      "text/plain": [
       "[{'text': \"Yes, even if you don't register, you're still eligible to submit the homeworks.\\nBe aware, however, that there will be deadlines for turning in the final projects. So don't leave everything for the last minute.\",\n",
       "  'section': 'General course-related questions',\n",
       "  'question': 'Course - Can I still join the course after the start date?',\n",
       "  'course': 'data-engineering-zoomcamp'},\n",
       " {'text': 'Yes, we will keep all the materials after the course finishes, so you can follow the course at your own pace after it finishes.\\nYou can also continue looking at the homeworks and continue preparing for the next cohort. I guess you can also start working on your final capstone project.',\n",
       "  'section': 'General course-related questions',\n",
       "  'question': 'Course - Can I follow the course after it finishes?',\n",
       "  'course': 'data-engineering-zoomcamp'},\n",
       " {'text': 'You can start by installing and setting up all the dependencies and requirements:\\nGoogle cloud account\\nGoogle Cloud SDK\\nPython 3 (installed with Anaconda)\\nTerraform\\nGit\\nLook over the prerequisites and syllabus to see if you are comfortable with these subjects.',\n",
       "  'section': 'General course-related questions',\n",
       "  'question': 'Course - What can I do before the course starts?',\n",
       "  'course': 'data-engineering-zoomcamp'},\n",
       " {'text': 'Yes, the slack channel remains open and you can ask questions there. But always sDocker containers exit code w search the channel first and second, check the FAQ (this document), most likely all your questions are already answered here.\\nYou can also tag the bot @ZoomcampQABot to help you conduct the search, but don’t rely on its answers 100%, it is pretty good though.',\n",
       "  'section': 'General course-related questions',\n",
       "  'question': 'Course - Can I get support if I take the course in the self-paced mode?',\n",
       "  'course': 'data-engineering-zoomcamp'},\n",
       " {'text': \"You don't need it. You're accepted. You can also just start learning and submitting homework without registering. It is not checked against any registered list. Registration is just to gauge interest before the start date.\",\n",
       "  'section': 'General course-related questions',\n",
       "  'question': 'Course - I have registered for the Data Engineering Bootcamp. When can I expect to receive the confirmation email?',\n",
       "  'course': 'data-engineering-zoomcamp'}]"
      ]
     },
     "execution_count": 49,
     "metadata": {},
     "output_type": "execute_result"
    }
   ],
   "source": [
    "query = \"I just discovered the course. Can I still join it?\"\n",
    "index_name = \"course-questions\"\n",
    "elastic_search(index_name, query, filter_course=\"data-engineering-zoomcamp\")"
   ]
  },
  {
   "cell_type": "code",
   "execution_count": 67,
   "id": "711f9719-e02a-4cf2-95ef-817e700f6f86",
   "metadata": {},
   "outputs": [],
   "source": [
    "def rag_elastic(query: str, index_name:str = \"course-questions\",  filter_course=\"data-engineering-zoomcamp\"):\n",
    "    system_prompt= \"\"\"\n",
    "You are a course teaching assistant.\n",
    "Your task is to provide specific guidance based on the CONTEXT provided.\n",
    "Provide the appropriate answer if the QUESTION aligns with the information in CONTEXT.\n",
    "Ensure clear responses address the user's query or provide appropriate instructions based on the provided course materials.\n",
    "\"\"\".strip()\n",
    "    search_result = elastic_search(index_name, query, filter_course)\n",
    "    user_prompt = build_user_prompt(query, search_result)\n",
    "    answer = llm(system_prompt, user_prompt)\n",
    "    return answer\n"
   ]
  },
  {
   "cell_type": "code",
   "execution_count": 68,
   "id": "3d0ce448-603e-4660-92b5-279442e4218b",
   "metadata": {},
   "outputs": [
    {
     "data": {
      "text/plain": [
       "\"Yes, you can still join the course even if you just discovered it. You are eligible to submit homework even if you don't register. Just be mindful of the deadlines for turning in the final projects. Don't procrastinate and try to stay on track with the course material.\""
      ]
     },
     "execution_count": 68,
     "metadata": {},
     "output_type": "execute_result"
    }
   ],
   "source": [
    "query = \"I just discovered the course. Can I still join it?\"\n",
    "rag_elastic(query)"
   ]
  },
  {
   "cell_type": "code",
   "execution_count": null,
   "id": "c732d5a1-4a12-45f7-84c5-c196aadad523",
   "metadata": {},
   "outputs": [],
   "source": []
  }
 ],
 "metadata": {
  "kernelspec": {
   "display_name": "Python 3 (ipykernel)",
   "language": "python",
   "name": "python3"
  },
  "language_info": {
   "codemirror_mode": {
    "name": "ipython",
    "version": 3
   },
   "file_extension": ".py",
   "mimetype": "text/x-python",
   "name": "python",
   "nbconvert_exporter": "python",
   "pygments_lexer": "ipython3",
   "version": "3.10.14"
  }
 },
 "nbformat": 4,
 "nbformat_minor": 5
}
